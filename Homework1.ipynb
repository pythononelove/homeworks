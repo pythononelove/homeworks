{
 "cells": [
  {
   "cell_type": "code",
   "execution_count": 5,
   "metadata": {},
   "outputs": [
    {
     "name": "stdout",
     "output_type": "stream",
     "text": [
      "Введите число N1000000\n",
      "10 40\n"
     ]
    }
   ],
   "source": [
    "n = int(input(\"Введите число N\"))\n",
    "while(n > 24*60):\n",
    "    n -= 24*60\n",
    "hours = n // 60\n",
    "minutes = n - hours * 60\n",
    "print(str(hours) + \":\" + str(minutes))"
   ]
  },
  {
   "cell_type": "code",
   "execution_count": 6,
   "metadata": {},
   "outputs": [
    {
     "name": "stdout",
     "output_type": "stream",
     "text": [
      "Введите катет а3\n",
      "Введите катет b4\n",
      "6.0\n"
     ]
    }
   ],
   "source": [
    "print(int(input(\"Введите катет а\")) * int(input(\"Введите катет b\")) * 1/2)"
   ]
  },
  {
   "cell_type": "code",
   "execution_count": 8,
   "metadata": {},
   "outputs": [
    {
     "name": "stdout",
     "output_type": "stream",
     "text": [
      "Введите количество студентов5\n",
      "Введите количество яблок13\n",
      "У студентов: 2\n",
      "В корзинке: 3\n"
     ]
    }
   ],
   "source": [
    "n = int(input(\"Введите количество студентов\"))\n",
    "k = int(input(\"Введите количество яблок\"))\n",
    "print(\"У студентов: \" + str(k//n))\n",
    "print(\"В корзинке: \" + str(k % n))"
   ]
  },
  {
   "cell_type": "code",
   "execution_count": null,
   "metadata": {
    "collapsed": true
   },
   "outputs": [],
   "source": []
  }
 ],
 "metadata": {
  "kernelspec": {
   "display_name": "Python 3",
   "language": "python",
   "name": "python3"
  },
  "language_info": {
   "codemirror_mode": {
    "name": "ipython",
    "version": 3
   },
   "file_extension": ".py",
   "mimetype": "text/x-python",
   "name": "python",
   "nbconvert_exporter": "python",
   "pygments_lexer": "ipython3",
   "version": "3.6.1"
  }
 },
 "nbformat": 4,
 "nbformat_minor": 2
}
